{
 "cells": [
  {
   "cell_type": "code",
   "execution_count": 2,
   "metadata": {
    "collapsed": true
   },
   "outputs": [],
   "source": [
    "import tensorflow as tf"
   ]
  },
  {
   "cell_type": "code",
   "execution_count": 3,
   "metadata": {},
   "outputs": [
    {
     "name": "stdout",
     "output_type": "stream",
     "text": [
      "Tensor(\"Const:0\", shape=(), dtype=int32)\n"
     ]
    }
   ],
   "source": [
    "# First abstraction, in tf everything is a graph\n",
    "two_node = tf.constant(2)\n",
    "print (two_node)"
   ]
  },
  {
   "cell_type": "code",
   "execution_count": 4,
   "metadata": {},
   "outputs": [
    {
     "name": "stdout",
     "output_type": "stream",
     "text": [
      "Tensor(\"Const:0\", shape=(), dtype=int32)\n",
      "Tensor(\"Const:0\", shape=(), dtype=int32)\n"
     ]
    }
   ],
   "source": [
    "\n",
    "#In tensorflow the variable are pointers\n",
    "third_node = two_node\n",
    "\n",
    "print(two_node)\n",
    "print(third_node)"
   ]
  },
  {
   "cell_type": "code",
   "execution_count": 5,
   "metadata": {},
   "outputs": [
    {
     "name": "stdout",
     "output_type": "stream",
     "text": [
      "Tensor(\"add:0\", shape=(), dtype=int32)\n"
     ]
    }
   ],
   "source": [
    "# everything done in tf will evaluate to a node in a graph\n",
    "sum_node = third_node + two_node\n",
    "print(sum_node)"
   ]
  },
  {
   "cell_type": "code",
   "execution_count": 6,
   "metadata": {
    "collapsed": true
   },
   "outputs": [],
   "source": [
    "# Second abstraction, Session\n",
    "# You need a session in order to evaluate the graph\n",
    "\n",
    "sess = tf.Session()"
   ]
  },
  {
   "cell_type": "code",
   "execution_count": 7,
   "metadata": {},
   "outputs": [
    {
     "name": "stdout",
     "output_type": "stream",
     "text": [
      "4\n",
      "[4, 2, 2]\n"
     ]
    }
   ],
   "source": [
    "print(sess.run(sum_node))\n",
    "print(sess.run([sum_node, two_node, third_node]))"
   ]
  },
  {
   "cell_type": "code",
   "execution_count": 8,
   "metadata": {},
   "outputs": [
    {
     "name": "stdout",
     "output_type": "stream",
     "text": [
      "2\n"
     ]
    }
   ],
   "source": [
    "# placeholders allows you pass value when running\n",
    "# the session as a dict\n",
    "ph01 = tf.placeholder( tf.int32)\n",
    "print(sess.run(ph01, feed_dict={ph01: 2}))"
   ]
  },
  {
   "cell_type": "code",
   "execution_count": 21,
   "metadata": {},
   "outputs": [
    {
     "name": "stdout",
     "output_type": "stream",
     "text": [
      "3\n",
      "8\n"
     ]
    }
   ],
   "source": [
    "# Third abstraction, computation path\n",
    "import tensorflow as tf\n",
    "input_placeholder = tf.placeholder(tf.int32)\n",
    "three_node = tf.constant(3)\n",
    "sum_node = input_placeholder + three_node\n",
    "print (sess.run(three_node))\n",
    "print (sess.run(sum_node, feed_dict={input_placeholder: 5}))"
   ]
  },
  {
   "cell_type": "code",
   "execution_count": 23,
   "metadata": {},
   "outputs": [
    {
     "name": "stdout",
     "output_type": "stream",
     "text": [
      "0.0\n"
     ]
    }
   ],
   "source": [
    "# variables and side effects\n",
    "# pass the name and the shape\n",
    "tf.reset_default_graph()\n",
    "count_variable  = tf.get_variable(\"count\", [])\n",
    "sess = tf.Session()\n",
    "\n",
    "# assing value to variable\n",
    "zero_node = tf.constant(0.)\n",
    "assign_node = tf.assign( count_variable, zero_node)\n",
    "sess.run( assign_node )\n",
    "\n",
    "print(sess.run(count_variable))"
   ]
  },
  {
   "cell_type": "markdown",
   "metadata": {},
   "source": [
    "<img src=\"tensorflow_test_src/fig13.png\",width=200,height=200>"
   ]
  },
  {
   "cell_type": "code",
   "execution_count": 31,
   "metadata": {},
   "outputs": [
    {
     "name": "stdout",
     "output_type": "stream",
     "text": [
      "0.0\n"
     ]
    }
   ],
   "source": [
    "# initialiazer for variables\n",
    "tf.reset_default_graph()\n",
    "const_init_node = tf.constant_initializer(0.)\n",
    "count_variable = tf.get_variable(\"count01\", [], initializer=const_init_node)\n",
    "\n",
    "# update the variable reference to be use by the variables\n",
    "init = tf.global_variables_initializer()\n",
    "sess = tf.Session()\n",
    "sess.run(init)\n",
    "\n",
    "print (sess.run(count_variable))"
   ]
  },
  {
   "cell_type": "markdown",
   "metadata": {},
   "source": [
    "<img src=\"tensorflow_test_src/fig14.png\",width=200,height=200>"
   ]
  },
  {
   "cell_type": "markdown",
   "metadata": {},
   "source": [
    "** note **\n",
    "You may encounter Tensorflow code with variable sharing, which involves creating a scope and setting “reuse=True”. I strongly recommend that you don’t use this in your own code. If you want to use a single variable in multiple places, simply keep track of your pointer to that variable’s node programmatically, and re-use it when you need to. In other words, you should have only a single call of tf.get_variable() for each parameter you intend to store in memory."
   ]
  },
  {
   "cell_type": "markdown",
   "metadata": {},
   "source": [
    "## In deep learning you usually do \n",
    "\n",
    "1. Get an input and true_output\n",
    "2. Compute a “guess” based on the input and your parameters\n",
    "3. Compute a “loss” based on the difference between your guess and the true_output\n",
    "4. Update the parameters according to the gradient of the loss"
   ]
  },
  {
   "cell_type": "markdown",
   "metadata": {},
   "source": [
    "### Lets look at a linear regression in tf"
   ]
  },
  {
   "cell_type": "markdown",
   "metadata": {},
   "source": [
    "```python\n",
    "import tensorflow as tf\n",
    "tf.reset_default_graph()\n",
    "### build the graph\n",
    "## first set up the parameters\n",
    "m = tf.get_variable(\"m\", [], initializer=tf.constant_initializer(0.))\n",
    "b = tf.get_variable(\"b\", [], initializer=tf.constant_initializer(0.))\n",
    "init = tf.global_variables_initializer()\n",
    "\n",
    "## then set up the computations\n",
    "input_placeholder = tf.placeholder(tf.float32)\n",
    "output_placeholder = tf.placeholder(tf.float32)\n",
    "\n",
    "x = input_placeholder\n",
    "y = output_placeholder\n",
    "y_guess = m * x + b\n",
    "\n",
    "loss = tf.square(y - y_guess)\n",
    "\n",
    "## finally, set up the optimizer and minimization node\n",
    "optimizer = tf.train.GradientDescentOptimizer(1e-3)\n",
    "train_op = optimizer.minimize(loss)\n",
    "\n",
    "### start the session\n",
    "sess = tf.Session()\n",
    "sess.run(init)\n",
    "\n",
    "### perform the training loop\n",
    "import random\n",
    "\n",
    "## set up problem\n",
    "true_m = random.random()\n",
    "true_b = random.random()\n",
    "\n",
    "for update_i in range(100000):\n",
    "  ## (1) get the input and output\n",
    "    input_data = random.random()\n",
    "    output_data = true_m * input_data + true_b\n",
    "\n",
    "  ## (2), (3), and (4) all take place within a single call to sess.run()!\n",
    "    _loss, _ = sess.run([loss, train_op], feed_dict={input_placeholder: input_data, output_placeholder: output_data})\n",
    "  \n",
    "    if update_i % 10000 == 0:\n",
    "        print (update_i, _loss)\n",
    "\n",
    "# print last loss \n",
    "print (update_i, _loss)\n",
    "\n",
    "### finally, print out the values we learned for our two variables\n",
    "print (\"True parameters:     m=%.4f, b=%.4f\" % (true_m, true_b))\n",
    "print (\"Learned parameters:  m=%.4f, b=%.4f\" % tuple(sess.run([m, b])))\n",
    "```"
   ]
  },
  {
   "cell_type": "code",
   "execution_count": 37,
   "metadata": {},
   "outputs": [
    {
     "name": "stdout",
     "output_type": "stream",
     "text": [
      "0 1.02288\n",
      "10000 0.000746677\n",
      "20000 0.000103315\n",
      "30000 1.3175e-05\n",
      "40000 3.85593e-07\n",
      "50000 1.22382e-08\n",
      "60000 3.32898e-09\n",
      "70000 7.78186e-11\n",
      "80000 4.60432e-12\n",
      "90000 6.00409e-11\n",
      "99999 2.75122e-11\n",
      "True parameters:     m=0.9632, b=0.9507\n",
      "Learned parameters:  m=0.9632, b=0.9507\n"
     ]
    }
   ],
   "source": [
    "import tensorflow as tf\n",
    "tf.reset_default_graph()\n",
    "### build the graph\n",
    "## first set up the parameters\n",
    "m = tf.get_variable(\"m\", [], initializer=tf.constant_initializer(0.))\n",
    "b = tf.get_variable(\"b\", [], initializer=tf.constant_initializer(0.))\n",
    "init = tf.global_variables_initializer()\n",
    "\n",
    "## then set up the computations\n",
    "input_placeholder = tf.placeholder(tf.float32)\n",
    "output_placeholder = tf.placeholder(tf.float32)\n",
    "\n",
    "x = input_placeholder\n",
    "y = output_placeholder\n",
    "y_guess = m * x + b\n",
    "\n",
    "loss = tf.square(y - y_guess)\n",
    "\n",
    "## finally, set up the optimizer and minimization node\n",
    "optimizer = tf.train.GradientDescentOptimizer(1e-3)\n",
    "train_op = optimizer.minimize(loss)\n",
    "\n",
    "### start the session\n",
    "sess = tf.Session()\n",
    "sess.run(init)\n",
    "\n",
    "### perform the training loop\n",
    "import random\n",
    "\n",
    "## set up problem\n",
    "true_m = random.random()\n",
    "true_b = random.random()\n",
    "\n",
    "for update_i in range(100000):\n",
    "  ## (1) get the input and output\n",
    "    input_data = random.random()\n",
    "    output_data = true_m * input_data + true_b\n",
    "\n",
    "  ## (2), (3), and (4) all take place within a single call to sess.run()!\n",
    "    _loss, _ = sess.run([loss, train_op], feed_dict={input_placeholder: input_data, output_placeholder: output_data})\n",
    "  \n",
    "    if update_i % 10000 == 0:\n",
    "        print (update_i, _loss)\n",
    "\n",
    "# print last loss \n",
    "print (update_i, _loss)\n",
    "\n",
    "### finally, print out the values we learned for our two variables\n",
    "print (\"True parameters:     m=%.4f, b=%.4f\" % (true_m, true_b))\n",
    "print (\"Learned parameters:  m=%.4f, b=%.4f\" % tuple(sess.run([m, b])))"
   ]
  },
  {
   "cell_type": "markdown",
   "metadata": {},
   "source": [
    "## Debugging with tf.Print"
   ]
  },
  {
   "cell_type": "code",
   "execution_count": 50,
   "metadata": {},
   "outputs": [
    {
     "name": "stdout",
     "output_type": "stream",
     "text": [
      "5\n"
     ]
    }
   ],
   "source": [
    "tf.reset_default_graph()\n",
    "\n",
    "two_node = tf.constant(2)\n",
    "three_node = tf.constant(3)\n",
    "sum_node = two_node + three_node\n",
    "print_sum_node = tf.Print(sum_node, [two_node, three_node])\n",
    "\n",
    "sess = tf.Session()\n",
    "\n",
    "print(sess.run(print_sum_node))"
   ]
  },
  {
   "cell_type": "markdown",
   "metadata": {},
   "source": [
    "<img src=\"tensorflow_test_src/fig15.png\",width=200,height=200>"
   ]
  },
  {
   "cell_type": "code",
   "execution_count": null,
   "metadata": {
    "collapsed": true
   },
   "outputs": [],
   "source": []
  }
 ],
 "metadata": {
  "celltoolbar": "Raw Cell Format",
  "kernelspec": {
   "display_name": "Python 3",
   "language": "python",
   "name": "python3"
  }
 },
 "nbformat": 4,
 "nbformat_minor": 2
}
